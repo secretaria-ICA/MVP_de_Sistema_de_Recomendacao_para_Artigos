{
  "nbformat": 4,
  "nbformat_minor": 0,
  "metadata": {
    "colab": {
      "name": "TCC_notebook.ipynb",
      "provenance": [],
      "collapsed_sections": []
    },
    "kernelspec": {
      "name": "python3",
      "display_name": "Python 3"
    },
    "language_info": {
      "name": "python"
    }
  },
  "cells": [
    {
      "cell_type": "markdown",
      "metadata": {
        "id": "QROJ--JaVDZR"
      },
      "source": [
        "#Sistema de recomendação de artigos\n",
        "Trabalho de conclusão de curso BI Master - PUC-RJ \n",
        "\n",
        "Aluno: Thiago Gavioli"
      ]
    },
    {
      "cell_type": "markdown",
      "metadata": {
        "id": "YkHo0MmTU4LD"
      },
      "source": [
        "##Importando bibliotecas e datasets"
      ]
    },
    {
      "cell_type": "code",
      "metadata": {
        "id": "UAmM1tLvHDyW"
      },
      "source": [
        "import pandas as pd\n",
        "import numpy as np\n",
        "import pickle\n",
        "import json\n",
        "from scipy.sparse import csr_matrix\n",
        "from sklearn.neighbors import NearestNeighbors\n",
        "import matplotlib.pyplot as plt\n",
        "import seaborn as sns"
      ],
      "execution_count": null,
      "outputs": []
    },
    {
      "cell_type": "code",
      "metadata": {
        "id": "GiAOICqjGlKn"
      },
      "source": [
        "# Função carrega dados\n",
        "def load_data(user_item_filepath, articles_filepath):\n",
        "    df = pd.read_csv(user_item_filepath)\n",
        "    df_content = pd.read_csv(articles_filepath)\n",
        "    del df['Unnamed: 0']\n",
        "    del df_content['Unnamed: 0']\n",
        "\n",
        "    #Insere coluna de frequencia\n",
        "    df['frequency'] = 1\n",
        "    return df, df_content"
      ],
      "execution_count": null,
      "outputs": []
    },
    {
      "cell_type": "code",
      "metadata": {
        "id": "7QSVO0-1U2ze"
      },
      "source": [
        "df, df_content = load_data('user-item-interactions.csv', 'articles_community.csv')"
      ],
      "execution_count": null,
      "outputs": []
    },
    {
      "cell_type": "markdown",
      "metadata": {
        "id": "bya1jNG_VvnW"
      },
      "source": [
        "##Data understanding + Data preparation\n"
      ]
    },
    {
      "cell_type": "markdown",
      "metadata": {
        "id": "Llo_itmgV75R"
      },
      "source": [
        "**df dataset - *User-Item interactions***"
      ]
    },
    {
      "cell_type": "code",
      "metadata": {
        "colab": {
          "base_uri": "https://localhost:8080/",
          "height": 202
        },
        "id": "wi2gdZDAVy-G",
        "outputId": "190a854a-d61b-4d38-f11d-c9d331bc036c"
      },
      "source": [
        "df.head()"
      ],
      "execution_count": null,
      "outputs": [
        {
          "output_type": "execute_result",
          "data": {
            "text/html": [
              "<div>\n",
              "<style scoped>\n",
              "    .dataframe tbody tr th:only-of-type {\n",
              "        vertical-align: middle;\n",
              "    }\n",
              "\n",
              "    .dataframe tbody tr th {\n",
              "        vertical-align: top;\n",
              "    }\n",
              "\n",
              "    .dataframe thead th {\n",
              "        text-align: right;\n",
              "    }\n",
              "</style>\n",
              "<table border=\"1\" class=\"dataframe\">\n",
              "  <thead>\n",
              "    <tr style=\"text-align: right;\">\n",
              "      <th></th>\n",
              "      <th>article_id</th>\n",
              "      <th>title</th>\n",
              "      <th>email</th>\n",
              "      <th>frequency</th>\n",
              "    </tr>\n",
              "  </thead>\n",
              "  <tbody>\n",
              "    <tr>\n",
              "      <th>0</th>\n",
              "      <td>1430.0</td>\n",
              "      <td>using pixiedust for fast, flexible, and easier...</td>\n",
              "      <td>ef5f11f77ba020cd36e1105a00ab868bbdbf7fe7</td>\n",
              "      <td>1</td>\n",
              "    </tr>\n",
              "    <tr>\n",
              "      <th>1</th>\n",
              "      <td>1314.0</td>\n",
              "      <td>healthcare python streaming application demo</td>\n",
              "      <td>083cbdfa93c8444beaa4c5f5e0f5f9198e4f9e0b</td>\n",
              "      <td>1</td>\n",
              "    </tr>\n",
              "    <tr>\n",
              "      <th>2</th>\n",
              "      <td>1429.0</td>\n",
              "      <td>use deep learning for image classification</td>\n",
              "      <td>b96a4f2e92d8572034b1e9b28f9ac673765cd074</td>\n",
              "      <td>1</td>\n",
              "    </tr>\n",
              "    <tr>\n",
              "      <th>3</th>\n",
              "      <td>1338.0</td>\n",
              "      <td>ml optimization using cognitive assistant</td>\n",
              "      <td>06485706b34a5c9bf2a0ecdac41daf7e7654ceb7</td>\n",
              "      <td>1</td>\n",
              "    </tr>\n",
              "    <tr>\n",
              "      <th>4</th>\n",
              "      <td>1276.0</td>\n",
              "      <td>deploy your python model as a restful api</td>\n",
              "      <td>f01220c46fc92c6e6b161b1849de11faacd7ccb2</td>\n",
              "      <td>1</td>\n",
              "    </tr>\n",
              "  </tbody>\n",
              "</table>\n",
              "</div>"
            ],
            "text/plain": [
              "   article_id  ... frequency\n",
              "0      1430.0  ...         1\n",
              "1      1314.0  ...         1\n",
              "2      1429.0  ...         1\n",
              "3      1338.0  ...         1\n",
              "4      1276.0  ...         1\n",
              "\n",
              "[5 rows x 4 columns]"
            ]
          },
          "metadata": {
            "tags": []
          },
          "execution_count": 5
        }
      ]
    },
    {
      "cell_type": "code",
      "metadata": {
        "colab": {
          "base_uri": "https://localhost:8080/"
        },
        "id": "UZTm1c1CVy7Z",
        "outputId": "58c59575-1a5b-4785-a649-9e38f1b616bf"
      },
      "source": [
        "print('O df dataset contém {} linhas e {} colunas.'.format(df.shape[0], df.shape[1]))"
      ],
      "execution_count": null,
      "outputs": [
        {
          "output_type": "stream",
          "text": [
            "O df dataset contém 45993 linhas e 4 colunas.\n"
          ],
          "name": "stdout"
        }
      ]
    },
    {
      "cell_type": "code",
      "metadata": {
        "colab": {
          "base_uri": "https://localhost:8080/"
        },
        "id": "faJBllp_WtSE",
        "outputId": "cc99953c-901e-455d-8d9f-abc279f86d76"
      },
      "source": [
        "#verifica se tem null_values\n",
        "df.isnull().sum()"
      ],
      "execution_count": null,
      "outputs": [
        {
          "output_type": "execute_result",
          "data": {
            "text/plain": [
              "article_id     0\n",
              "title          0\n",
              "email         17\n",
              "frequency      0\n",
              "dtype: int64"
            ]
          },
          "metadata": {
            "tags": []
          },
          "execution_count": 7
        }
      ]
    },
    {
      "cell_type": "code",
      "metadata": {
        "colab": {
          "base_uri": "https://localhost:8080/",
          "height": 570
        },
        "id": "QDue3b0wWtPV",
        "outputId": "cb2729c2-5ff0-44c0-9369-a4b3c046e18a"
      },
      "source": [
        "df[df['email'].isnull()]"
      ],
      "execution_count": null,
      "outputs": [
        {
          "output_type": "execute_result",
          "data": {
            "text/html": [
              "<div>\n",
              "<style scoped>\n",
              "    .dataframe tbody tr th:only-of-type {\n",
              "        vertical-align: middle;\n",
              "    }\n",
              "\n",
              "    .dataframe tbody tr th {\n",
              "        vertical-align: top;\n",
              "    }\n",
              "\n",
              "    .dataframe thead th {\n",
              "        text-align: right;\n",
              "    }\n",
              "</style>\n",
              "<table border=\"1\" class=\"dataframe\">\n",
              "  <thead>\n",
              "    <tr style=\"text-align: right;\">\n",
              "      <th></th>\n",
              "      <th>article_id</th>\n",
              "      <th>title</th>\n",
              "      <th>email</th>\n",
              "      <th>frequency</th>\n",
              "    </tr>\n",
              "  </thead>\n",
              "  <tbody>\n",
              "    <tr>\n",
              "      <th>25131</th>\n",
              "      <td>1016.0</td>\n",
              "      <td>why you should master r (even if it might even...</td>\n",
              "      <td>NaN</td>\n",
              "      <td>1</td>\n",
              "    </tr>\n",
              "    <tr>\n",
              "      <th>29758</th>\n",
              "      <td>1393.0</td>\n",
              "      <td>the nurse assignment problem</td>\n",
              "      <td>NaN</td>\n",
              "      <td>1</td>\n",
              "    </tr>\n",
              "    <tr>\n",
              "      <th>29759</th>\n",
              "      <td>20.0</td>\n",
              "      <td>working interactively with rstudio and noteboo...</td>\n",
              "      <td>NaN</td>\n",
              "      <td>1</td>\n",
              "    </tr>\n",
              "    <tr>\n",
              "      <th>29760</th>\n",
              "      <td>1174.0</td>\n",
              "      <td>breast cancer wisconsin (diagnostic) data set</td>\n",
              "      <td>NaN</td>\n",
              "      <td>1</td>\n",
              "    </tr>\n",
              "    <tr>\n",
              "      <th>29761</th>\n",
              "      <td>62.0</td>\n",
              "      <td>data visualization: the importance of excludin...</td>\n",
              "      <td>NaN</td>\n",
              "      <td>1</td>\n",
              "    </tr>\n",
              "    <tr>\n",
              "      <th>35264</th>\n",
              "      <td>224.0</td>\n",
              "      <td>using apply, sapply, lapply in r</td>\n",
              "      <td>NaN</td>\n",
              "      <td>1</td>\n",
              "    </tr>\n",
              "    <tr>\n",
              "      <th>35276</th>\n",
              "      <td>961.0</td>\n",
              "      <td>beyond parallelize and collect</td>\n",
              "      <td>NaN</td>\n",
              "      <td>1</td>\n",
              "    </tr>\n",
              "    <tr>\n",
              "      <th>35277</th>\n",
              "      <td>268.0</td>\n",
              "      <td>sector correlations shiny app</td>\n",
              "      <td>NaN</td>\n",
              "      <td>1</td>\n",
              "    </tr>\n",
              "    <tr>\n",
              "      <th>35278</th>\n",
              "      <td>268.0</td>\n",
              "      <td>sector correlations shiny app</td>\n",
              "      <td>NaN</td>\n",
              "      <td>1</td>\n",
              "    </tr>\n",
              "    <tr>\n",
              "      <th>35279</th>\n",
              "      <td>268.0</td>\n",
              "      <td>sector correlations shiny app</td>\n",
              "      <td>NaN</td>\n",
              "      <td>1</td>\n",
              "    </tr>\n",
              "    <tr>\n",
              "      <th>35280</th>\n",
              "      <td>268.0</td>\n",
              "      <td>sector correlations shiny app</td>\n",
              "      <td>NaN</td>\n",
              "      <td>1</td>\n",
              "    </tr>\n",
              "    <tr>\n",
              "      <th>35281</th>\n",
              "      <td>415.0</td>\n",
              "      <td>using machine learning to predict value of hom...</td>\n",
              "      <td>NaN</td>\n",
              "      <td>1</td>\n",
              "    </tr>\n",
              "    <tr>\n",
              "      <th>35282</th>\n",
              "      <td>846.0</td>\n",
              "      <td>pearson correlation aggregation on sparksql</td>\n",
              "      <td>NaN</td>\n",
              "      <td>1</td>\n",
              "    </tr>\n",
              "    <tr>\n",
              "      <th>35283</th>\n",
              "      <td>268.0</td>\n",
              "      <td>sector correlations shiny app</td>\n",
              "      <td>NaN</td>\n",
              "      <td>1</td>\n",
              "    </tr>\n",
              "    <tr>\n",
              "      <th>35284</th>\n",
              "      <td>162.0</td>\n",
              "      <td>an introduction to stock market data analysis ...</td>\n",
              "      <td>NaN</td>\n",
              "      <td>1</td>\n",
              "    </tr>\n",
              "    <tr>\n",
              "      <th>42749</th>\n",
              "      <td>647.0</td>\n",
              "      <td>getting started with apache mahout</td>\n",
              "      <td>NaN</td>\n",
              "      <td>1</td>\n",
              "    </tr>\n",
              "    <tr>\n",
              "      <th>42750</th>\n",
              "      <td>965.0</td>\n",
              "      <td>data visualization playbook: revisiting the ba...</td>\n",
              "      <td>NaN</td>\n",
              "      <td>1</td>\n",
              "    </tr>\n",
              "  </tbody>\n",
              "</table>\n",
              "</div>"
            ],
            "text/plain": [
              "       article_id  ... frequency\n",
              "25131      1016.0  ...         1\n",
              "29758      1393.0  ...         1\n",
              "29759        20.0  ...         1\n",
              "29760      1174.0  ...         1\n",
              "29761        62.0  ...         1\n",
              "35264       224.0  ...         1\n",
              "35276       961.0  ...         1\n",
              "35277       268.0  ...         1\n",
              "35278       268.0  ...         1\n",
              "35279       268.0  ...         1\n",
              "35280       268.0  ...         1\n",
              "35281       415.0  ...         1\n",
              "35282       846.0  ...         1\n",
              "35283       268.0  ...         1\n",
              "35284       162.0  ...         1\n",
              "42749       647.0  ...         1\n",
              "42750       965.0  ...         1\n",
              "\n",
              "[17 rows x 4 columns]"
            ]
          },
          "metadata": {
            "tags": []
          },
          "execution_count": 8
        }
      ]
    },
    {
      "cell_type": "markdown",
      "metadata": {
        "id": "Oo82FfxHXJx0"
      },
      "source": [
        "Uma vez que são poucos nulos e é difícil atribuir a algum usuário específico, vamos deletar as linhas que contém emails nulos. "
      ]
    },
    {
      "cell_type": "code",
      "metadata": {
        "id": "AKdAyA-hXW8n"
      },
      "source": [
        "#Deleta linhas em que a informação de email está nula\n",
        "df = df.dropna(axis=0, subset=['email'])"
      ],
      "execution_count": null,
      "outputs": []
    },
    {
      "cell_type": "code",
      "metadata": {
        "colab": {
          "base_uri": "https://localhost:8080/"
        },
        "id": "nFZ0ctltXW5O",
        "outputId": "1213375b-53d5-40e6-af96-0a3fb41b34fd"
      },
      "source": [
        "df.isnull().sum()"
      ],
      "execution_count": null,
      "outputs": [
        {
          "output_type": "execute_result",
          "data": {
            "text/plain": [
              "article_id    0\n",
              "title         0\n",
              "email         0\n",
              "frequency     0\n",
              "dtype: int64"
            ]
          },
          "metadata": {
            "tags": []
          },
          "execution_count": 10
        }
      ]
    },
    {
      "cell_type": "markdown",
      "metadata": {
        "id": "cpjeCh-NYHZU"
      },
      "source": [
        "Tudo ok, dados nulos deletados!"
      ]
    },
    {
      "cell_type": "code",
      "metadata": {
        "colab": {
          "base_uri": "https://localhost:8080/"
        },
        "id": "PPLjMPSpmzyT",
        "outputId": "7c37b2ba-d1bc-4dd6-8c86-95cd6d522098"
      },
      "source": [
        "df.info()"
      ],
      "execution_count": null,
      "outputs": [
        {
          "output_type": "stream",
          "text": [
            "<class 'pandas.core.frame.DataFrame'>\n",
            "Int64Index: 45976 entries, 0 to 45992\n",
            "Data columns (total 4 columns):\n",
            " #   Column      Non-Null Count  Dtype  \n",
            "---  ------      --------------  -----  \n",
            " 0   article_id  45976 non-null  float64\n",
            " 1   title       45976 non-null  object \n",
            " 2   email       45976 non-null  object \n",
            " 3   frequency   45976 non-null  int64  \n",
            "dtypes: float64(1), int64(1), object(2)\n",
            "memory usage: 1.8+ MB\n"
          ],
          "name": "stdout"
        }
      ]
    },
    {
      "cell_type": "markdown",
      "metadata": {
        "id": "TQ_p6EykYz5H"
      },
      "source": [
        "**df_content - articles details dataset**"
      ]
    },
    {
      "cell_type": "code",
      "metadata": {
        "colab": {
          "base_uri": "https://localhost:8080/",
          "height": 285
        },
        "id": "KBHenQxxXW2R",
        "outputId": "6b46f8eb-7d2f-4eb6-e45c-4fe815c99d24"
      },
      "source": [
        "df_content.head()"
      ],
      "execution_count": null,
      "outputs": [
        {
          "output_type": "execute_result",
          "data": {
            "text/html": [
              "<div>\n",
              "<style scoped>\n",
              "    .dataframe tbody tr th:only-of-type {\n",
              "        vertical-align: middle;\n",
              "    }\n",
              "\n",
              "    .dataframe tbody tr th {\n",
              "        vertical-align: top;\n",
              "    }\n",
              "\n",
              "    .dataframe thead th {\n",
              "        text-align: right;\n",
              "    }\n",
              "</style>\n",
              "<table border=\"1\" class=\"dataframe\">\n",
              "  <thead>\n",
              "    <tr style=\"text-align: right;\">\n",
              "      <th></th>\n",
              "      <th>doc_body</th>\n",
              "      <th>doc_description</th>\n",
              "      <th>doc_full_name</th>\n",
              "      <th>doc_status</th>\n",
              "      <th>article_id</th>\n",
              "    </tr>\n",
              "  </thead>\n",
              "  <tbody>\n",
              "    <tr>\n",
              "      <th>0</th>\n",
              "      <td>Skip navigation Sign in SearchLoading...\\r\\n\\r...</td>\n",
              "      <td>Detect bad readings in real time using Python ...</td>\n",
              "      <td>Detect Malfunctioning IoT Sensors with Streami...</td>\n",
              "      <td>Live</td>\n",
              "      <td>0</td>\n",
              "    </tr>\n",
              "    <tr>\n",
              "      <th>1</th>\n",
              "      <td>No Free Hunch Navigation * kaggle.com\\r\\n\\r\\n ...</td>\n",
              "      <td>See the forest, see the trees. Here lies the c...</td>\n",
              "      <td>Communicating data science: A guide to present...</td>\n",
              "      <td>Live</td>\n",
              "      <td>1</td>\n",
              "    </tr>\n",
              "    <tr>\n",
              "      <th>2</th>\n",
              "      <td>☰ * Login\\r\\n * Sign Up\\r\\n\\r\\n * Learning Pat...</td>\n",
              "      <td>Here’s this week’s news in Data Science and Bi...</td>\n",
              "      <td>This Week in Data Science (April 18, 2017)</td>\n",
              "      <td>Live</td>\n",
              "      <td>2</td>\n",
              "    </tr>\n",
              "    <tr>\n",
              "      <th>3</th>\n",
              "      <td>DATALAYER: HIGH THROUGHPUT, LOW LATENCY AT SCA...</td>\n",
              "      <td>Learn how distributed DBs solve the problem of...</td>\n",
              "      <td>DataLayer Conference: Boost the performance of...</td>\n",
              "      <td>Live</td>\n",
              "      <td>3</td>\n",
              "    </tr>\n",
              "    <tr>\n",
              "      <th>4</th>\n",
              "      <td>Skip navigation Sign in SearchLoading...\\r\\n\\r...</td>\n",
              "      <td>This video demonstrates the power of IBM DataS...</td>\n",
              "      <td>Analyze NY Restaurant data using Spark in DSX</td>\n",
              "      <td>Live</td>\n",
              "      <td>4</td>\n",
              "    </tr>\n",
              "  </tbody>\n",
              "</table>\n",
              "</div>"
            ],
            "text/plain": [
              "                                            doc_body  ... article_id\n",
              "0  Skip navigation Sign in SearchLoading...\\r\\n\\r...  ...          0\n",
              "1  No Free Hunch Navigation * kaggle.com\\r\\n\\r\\n ...  ...          1\n",
              "2  ☰ * Login\\r\\n * Sign Up\\r\\n\\r\\n * Learning Pat...  ...          2\n",
              "3  DATALAYER: HIGH THROUGHPUT, LOW LATENCY AT SCA...  ...          3\n",
              "4  Skip navigation Sign in SearchLoading...\\r\\n\\r...  ...          4\n",
              "\n",
              "[5 rows x 5 columns]"
            ]
          },
          "metadata": {
            "tags": []
          },
          "execution_count": 12
        }
      ]
    },
    {
      "cell_type": "markdown",
      "metadata": {
        "id": "7EinWuzknCdu"
      },
      "source": [
        "Uma vez que não utilizaremos esse dataset para modelagem, não será necessário tratar null values."
      ]
    },
    {
      "cell_type": "code",
      "metadata": {
        "colab": {
          "base_uri": "https://localhost:8080/"
        },
        "id": "i5Fb07sWYOdz",
        "outputId": "1f8872a5-b9f3-4154-f127-c88b1240a8ac"
      },
      "source": [
        "#Informações gerais do dataset\n",
        "df_content.info()"
      ],
      "execution_count": null,
      "outputs": [
        {
          "output_type": "stream",
          "text": [
            "<class 'pandas.core.frame.DataFrame'>\n",
            "RangeIndex: 1056 entries, 0 to 1055\n",
            "Data columns (total 5 columns):\n",
            " #   Column           Non-Null Count  Dtype \n",
            "---  ------           --------------  ----- \n",
            " 0   doc_body         1042 non-null   object\n",
            " 1   doc_description  1053 non-null   object\n",
            " 2   doc_full_name    1056 non-null   object\n",
            " 3   doc_status       1056 non-null   object\n",
            " 4   article_id       1056 non-null   int64 \n",
            "dtypes: int64(1), object(4)\n",
            "memory usage: 41.4+ KB\n"
          ],
          "name": "stdout"
        }
      ]
    },
    {
      "cell_type": "markdown",
      "metadata": {
        "id": "SjY4NALd1sjg"
      },
      "source": [
        "#Exploratory data analysis"
      ]
    },
    {
      "cell_type": "markdown",
      "metadata": {
        "id": "SMfYaMdz4Pgy"
      },
      "source": [
        "Distribution of how many articles a user interacts with in the dataset"
      ]
    },
    {
      "cell_type": "code",
      "metadata": {
        "id": "4pLsH6Z-2Drr"
      },
      "source": [
        "#Seleciona usuários e quantidade de vezes que cada um interagiu \n",
        "int_times_list = list(df.groupby('email')['article_id'].count().sort_values(ascending=False).reset_index()['article_id'])"
      ],
      "execution_count": null,
      "outputs": []
    },
    {
      "cell_type": "code",
      "metadata": {
        "colab": {
          "base_uri": "https://localhost:8080/",
          "height": 404
        },
        "id": "nYfhKQFe5xxu",
        "outputId": "22126b79-6b90-4566-c06a-d8abefc0f588"
      },
      "source": [
        "#Distribuição de vezes que cada usuário interage com artigos \n",
        "plt.figure(figsize=(6,6))\n",
        "plt.hist(int_times_list, bins= 50, histtype='stepfilled', density=True, alpha=.5);\n",
        "plt.xlabel('times interaction');\n",
        "plt.title('Count of user interaction ');"
      ],
      "execution_count": null,
      "outputs": [
        {
          "output_type": "display_data",
          "data": {
            "image/png": "[encoded data removed]",
            "text/plain": [
              "<Figure size 432x432 with 1 Axes>"
            ]
          },
          "metadata": {
            "tags": [],
            "needs_background": "light"
          }
        }
      ]
    },
    {
      "cell_type": "code",
      "metadata": {
        "colab": {
          "base_uri": "https://localhost:8080/",
          "height": 483
        },
        "id": "zHSGfpSy5xuf",
        "outputId": "c051b745-4d99-4727-b76d-2b83dcbf7dff"
      },
      "source": [
        "#Mesma análise acima, porém no gráfico de boxplot\n",
        "fig = plt.figure(figsize=(8,8))\n",
        "\n",
        "plt.boxplot(int_times_list)\n",
        "plt.show()"
      ],
      "execution_count": null,
      "outputs": [
        {
          "output_type": "display_data",
          "data": {
            "image/png": "[encoded data removed]",
            "text/plain": [
              "<Figure size 576x576 with 1 Axes>"
            ]
          },
          "metadata": {
            "tags": [],
            "needs_background": "light"
          }
        }
      ]
    },
    {
      "cell_type": "code",
      "metadata": {
        "colab": {
          "base_uri": "https://localhost:8080/"
        },
        "id": "S5PObita5xr8",
        "outputId": "2f515059-d497-4137-f368-9839a85cc119"
      },
      "source": [
        "#Informações gerais da interação por usuário\n",
        "df.groupby('email')['article_id'].count().sort_values(ascending=False).reset_index()['article_id'].describe()"
      ],
      "execution_count": null,
      "outputs": [
        {
          "output_type": "execute_result",
          "data": {
            "text/plain": [
              "count    5148.000000\n",
              "mean        8.930847\n",
              "std        16.802267\n",
              "min         1.000000\n",
              "25%         1.000000\n",
              "50%         3.000000\n",
              "75%         9.000000\n",
              "max       364.000000\n",
              "Name: article_id, dtype: float64"
            ]
          },
          "metadata": {
            "tags": []
          },
          "execution_count": 17
        }
      ]
    },
    {
      "cell_type": "code",
      "metadata": {
        "colab": {
          "base_uri": "https://localhost:8080/"
        },
        "id": "-f59PThm624-",
        "outputId": "ab30af4b-d0eb-4729-e1bb-983870ae23fd"
      },
      "source": [
        "#Número de artigos únicos com interação\n",
        "len(df['article_id'].unique())"
      ],
      "execution_count": null,
      "outputs": [
        {
          "output_type": "execute_result",
          "data": {
            "text/plain": [
              "714"
            ]
          },
          "metadata": {
            "tags": []
          },
          "execution_count": 18
        }
      ]
    },
    {
      "cell_type": "code",
      "metadata": {
        "colab": {
          "base_uri": "https://localhost:8080/"
        },
        "id": "Z6L9SSmX622F",
        "outputId": "10862d52-1497-4617-972a-42bec3f181d3"
      },
      "source": [
        "#Número de artigos únicos com ou sem interação - total\n",
        "len(df_content['article_id'].unique())"
      ],
      "execution_count": null,
      "outputs": [
        {
          "output_type": "execute_result",
          "data": {
            "text/plain": [
              "1051"
            ]
          },
          "metadata": {
            "tags": []
          },
          "execution_count": 19
        }
      ]
    },
    {
      "cell_type": "code",
      "metadata": {
        "colab": {
          "base_uri": "https://localhost:8080/"
        },
        "id": "NN6P4LYN62zs",
        "outputId": "5f2d79b5-427a-4b7a-8bf7-4368942bd257"
      },
      "source": [
        "#Número de interações user-artigos registrados\n",
        "df.shape[0]"
      ],
      "execution_count": null,
      "outputs": [
        {
          "output_type": "execute_result",
          "data": {
            "text/plain": [
              "45976"
            ]
          },
          "metadata": {
            "tags": []
          },
          "execution_count": 20
        }
      ]
    },
    {
      "cell_type": "markdown",
      "metadata": {
        "id": "sjB4-Xh-8JU6"
      },
      "source": [
        "**Top 15 artigos mais lidos**"
      ]
    },
    {
      "cell_type": "code",
      "metadata": {
        "id": "QoppFu0X7eL1"
      },
      "source": [
        "frequency_art = df.groupby('title')['frequency'].sum().sort_values(ascending=False).reset_index()"
      ],
      "execution_count": null,
      "outputs": []
    },
    {
      "cell_type": "code",
      "metadata": {
        "colab": {
          "base_uri": "https://localhost:8080/",
          "height": 312
        },
        "id": "555YF6oS7QRD",
        "outputId": "5af57ca3-fd1f-4c21-d7b4-bbb008f1b37b"
      },
      "source": [
        "frequency_art_15 = frequency_art.head(15)\n",
        "\n",
        "ax = sns.barplot(x='frequency', y='title', data=frequency_art_15)\n",
        "ax.set_xlabel('Frequency')\n",
        "ax.set_title('Top 15 artigos')"
      ],
      "execution_count": null,
      "outputs": [
        {
          "output_type": "execute_result",
          "data": {
            "text/plain": [
              "Text(0.5, 1.0, 'Top 15 artigos')"
            ]
          },
          "metadata": {
            "tags": []
          },
          "execution_count": 22
        },
        {
          "output_type": "display_data",
          "data": {
            "image/png": "[encoded data removed]",
            "text/plain": [
              "<Figure size 432x288 with 1 Axes>"
            ]
          },
          "metadata": {
            "tags": [],
            "needs_background": "light"
          }
        }
      ]
    },
    {
      "cell_type": "markdown",
      "metadata": {
        "id": "O4pQU0tups8V"
      },
      "source": [
        "#Modelling"
      ]
    },
    {
      "cell_type": "code",
      "metadata": {
        "id": "lAfOoUwNGq0H"
      },
      "source": [
        "# Criar ID's com base no email\n",
        "def email_mapper(df):\n",
        "    coded_dict = dict()\n",
        "    cter = 1\n",
        "    email_encoded = []\n",
        "\n",
        "    for val in df['email']:\n",
        "        if val not in coded_dict:\n",
        "            coded_dict[val] = cter\n",
        "            cter += 1\n",
        "\n",
        "        email_encoded.append(coded_dict[val])\n",
        "    return email_encoded"
      ],
      "execution_count": null,
      "outputs": []
    },
    {
      "cell_type": "code",
      "metadata": {
        "id": "L8ep5KOxGqxv"
      },
      "source": [
        "#Mapeia o email de cada usuário a um novo ID  e deleta a coluna \"email\"\n",
        "def map_id(df):\n",
        "    email_encoded = email_mapper(df)\n",
        "    del df['email']\n",
        "    df['user_id'] = email_encoded\n",
        "    return df"
      ],
      "execution_count": null,
      "outputs": []
    },
    {
      "cell_type": "code",
      "metadata": {
        "id": "gj_mC3wWocdj"
      },
      "source": [
        "df = map_id(df)"
      ],
      "execution_count": null,
      "outputs": []
    },
    {
      "cell_type": "code",
      "metadata": {
        "colab": {
          "base_uri": "https://localhost:8080/",
          "height": 202
        },
        "id": "crKs9UIJL3AN",
        "outputId": "31669d70-fa24-4d99-d3b3-8ac06fae1fed"
      },
      "source": [
        "df.head()"
      ],
      "execution_count": null,
      "outputs": [
        {
          "output_type": "execute_result",
          "data": {
            "text/html": [
              "<div>\n",
              "<style scoped>\n",
              "    .dataframe tbody tr th:only-of-type {\n",
              "        vertical-align: middle;\n",
              "    }\n",
              "\n",
              "    .dataframe tbody tr th {\n",
              "        vertical-align: top;\n",
              "    }\n",
              "\n",
              "    .dataframe thead th {\n",
              "        text-align: right;\n",
              "    }\n",
              "</style>\n",
              "<table border=\"1\" class=\"dataframe\">\n",
              "  <thead>\n",
              "    <tr style=\"text-align: right;\">\n",
              "      <th></th>\n",
              "      <th>article_id</th>\n",
              "      <th>title</th>\n",
              "      <th>frequency</th>\n",
              "      <th>user_id</th>\n",
              "    </tr>\n",
              "  </thead>\n",
              "  <tbody>\n",
              "    <tr>\n",
              "      <th>0</th>\n",
              "      <td>1430.0</td>\n",
              "      <td>using pixiedust for fast, flexible, and easier...</td>\n",
              "      <td>1</td>\n",
              "      <td>1</td>\n",
              "    </tr>\n",
              "    <tr>\n",
              "      <th>1</th>\n",
              "      <td>1314.0</td>\n",
              "      <td>healthcare python streaming application demo</td>\n",
              "      <td>1</td>\n",
              "      <td>2</td>\n",
              "    </tr>\n",
              "    <tr>\n",
              "      <th>2</th>\n",
              "      <td>1429.0</td>\n",
              "      <td>use deep learning for image classification</td>\n",
              "      <td>1</td>\n",
              "      <td>3</td>\n",
              "    </tr>\n",
              "    <tr>\n",
              "      <th>3</th>\n",
              "      <td>1338.0</td>\n",
              "      <td>ml optimization using cognitive assistant</td>\n",
              "      <td>1</td>\n",
              "      <td>4</td>\n",
              "    </tr>\n",
              "    <tr>\n",
              "      <th>4</th>\n",
              "      <td>1276.0</td>\n",
              "      <td>deploy your python model as a restful api</td>\n",
              "      <td>1</td>\n",
              "      <td>5</td>\n",
              "    </tr>\n",
              "  </tbody>\n",
              "</table>\n",
              "</div>"
            ],
            "text/plain": [
              "   article_id  ... user_id\n",
              "0      1430.0  ...       1\n",
              "1      1314.0  ...       2\n",
              "2      1429.0  ...       3\n",
              "3      1338.0  ...       4\n",
              "4      1276.0  ...       5\n",
              "\n",
              "[5 rows x 4 columns]"
            ]
          },
          "metadata": {
            "tags": []
          },
          "execution_count": 26
        }
      ]
    },
    {
      "cell_type": "markdown",
      "metadata": {
        "id": "r9-v7gOYo_xQ"
      },
      "source": [
        "**Para modelagem, criaremos uma matriz esparsa com informações de usuários nas linhas e artigos consumidos nas colunas**"
      ]
    },
    {
      "cell_type": "code",
      "metadata": {
        "id": "jl_jW9kSGquy"
      },
      "source": [
        "# Função para criar a Matriz esparsa\n",
        "def create_X(df):\n",
        "    \"\"\"\n",
        "    Gera uma matriz esparsa utilizando o dataframe com o consumo por usuário.\n",
        "\n",
        "    Args:\n",
        "        df: pandas dataframe\n",
        "\n",
        "    Returns:\n",
        "        X: Matriz esparsa\n",
        "        user_mapper: dict que mapeia usuário id ao índice do usuário\n",
        "        user_inv_mapper: dict que mapeia o índice ao id do usuário\n",
        "        artigo_mapper: dict que mapeia id do artigo ao índice do artigo\n",
        "        artigo_inv_mapper: dict que mapeia o índice do artigo ao id do artigo\n",
        "    \"\"\"\n",
        "\n",
        "    N = df['user_id'].nunique()\n",
        "    M = df['article_id'].nunique()\n",
        "\n",
        "    user_mapper = dict(zip(np.unique(df[\"user_id\"]), list(range(N))))\n",
        "    artigo_mapper = dict(zip(np.unique(df[\"article_id\"]), list(range(M))))\n",
        "\n",
        "    user_inv_mapper = dict(zip(list(range(N)), np.unique(df[\"user_id\"])))\n",
        "    artigo_inv_mapper = dict(zip(list(range(M)), np.unique(df[\"article_id\"])))\n",
        "\n",
        "    user_index = [user_mapper[i] for i in df['user_id']]\n",
        "    artigo_index = [artigo_mapper[i] for i in df['article_id']]\n",
        "\n",
        "    X = csr_matrix((df[\"frequency\"], (artigo_index, user_index)), shape=(M, N))\n",
        "\n",
        "    return X, user_mapper, artigo_mapper, user_inv_mapper, artigo_inv_mapper"
      ],
      "execution_count": null,
      "outputs": []
    },
    {
      "cell_type": "code",
      "metadata": {
        "id": "ShHiKR8ypS0f"
      },
      "source": [
        "X, user_mapper, artigo_mapper, user_inv_mapper, artigo_inv_mapper = create_X(df)"
      ],
      "execution_count": null,
      "outputs": []
    },
    {
      "cell_type": "code",
      "metadata": {
        "id": "lrkrqP_cG4jB"
      },
      "source": [
        "#Função que treina o kNN\n",
        "def train_model(X, k=713, metric='cosine'):\n",
        "  k+=1\n",
        "  kNN = NearestNeighbors(n_neighbors=k, algorithm=\"brute\", metric=metric)\n",
        "  kNN.fit(X)\n",
        "\n",
        "  return kNN"
      ],
      "execution_count": null,
      "outputs": []
    },
    {
      "cell_type": "code",
      "metadata": {
        "id": "nPdFsa2Fp2XC"
      },
      "source": [
        "kNN = train_model(X)"
      ],
      "execution_count": null,
      "outputs": []
    },
    {
      "cell_type": "code",
      "metadata": {
        "id": "cJc6_iIpG4dy"
      },
      "source": [
        "# Função que encontra os similares\n",
        "def find_similar_articles(article_id, kNN, k, show_distance=True):\n",
        "    \"\"\"\n",
        "    Encontra k-nearest neighbours para um dado article_id.\n",
        "\n",
        "    Args:\n",
        "        article_id: id do artigo de interesse\n",
        "        X: user-item matriz\n",
        "        k: número de artigos similares para devolver\n",
        "        metric: métrica de distância para cálculo no KNN\n",
        "\n",
        "    Returns:\n",
        "        lista de k artigos similares\n",
        "    \"\"\"\n",
        "    neighbour_ids = []\n",
        "\n",
        "    artigo_ind = artigo_mapper[article_id]\n",
        "    artigo_vec = X[artigo_ind]\n",
        "    k += 1\n",
        "\n",
        "    n_distance, neighbour = kNN.kneighbors(artigo_vec, return_distance=show_distance)\n",
        "    for i in range(0, k):\n",
        "        n = neighbour.item(i)\n",
        "        neighbour_ids.append(artigo_inv_mapper[n])\n",
        "    neighbour_ids.pop(0)\n",
        "    return neighbour_ids, n_distance"
      ],
      "execution_count": null,
      "outputs": []
    },
    {
      "cell_type": "code",
      "metadata": {
        "id": "L2nzEKcLq884"
      },
      "source": [
        "#Função que gera as recomendações/similares para cada artigo\n",
        "def make_recs(df):\n",
        "    recs = {}\n",
        "\n",
        "    for id in df['article_id']:\n",
        "        recs[id] = find_similar_articles(id, kNN, k=15)[0]\n",
        "    return recs"
      ],
      "execution_count": null,
      "outputs": []
    },
    {
      "cell_type": "code",
      "metadata": {
        "id": "_1vOwB3rqnjm"
      },
      "source": [
        "recomendations = make_recs(df)"
      ],
      "execution_count": null,
      "outputs": []
    },
    {
      "cell_type": "code",
      "metadata": {
        "id": "tmsD2rk5G4YW"
      },
      "source": [
        "# Salva o dicionário gerado com as recomendações em um Json File\n",
        "def save_recs(dict, name='recommendation.json'):\n",
        "    with open(name, 'w') as json_file:\n",
        "        json.dump(dict, json_file)\n",
        "    print('Recomendações salvas.')"
      ],
      "execution_count": null,
      "outputs": []
    },
    {
      "cell_type": "code",
      "metadata": {
        "colab": {
          "base_uri": "https://localhost:8080/"
        },
        "id": "T4jM4vFdud5B",
        "outputId": "b21fdd4c-917b-4034-cb49-dde9d36d3f27"
      },
      "source": [
        "save_recs(recomendations)"
      ],
      "execution_count": null,
      "outputs": [
        {
          "output_type": "stream",
          "text": [
            "Recomendações salvas.\n"
          ],
          "name": "stdout"
        }
      ]
    },
    {
      "cell_type": "markdown",
      "metadata": {
        "id": "WvQIwNpXxhUW"
      },
      "source": [
        "#Results"
      ]
    },
    {
      "cell_type": "markdown",
      "metadata": {
        "id": "2gsO_rxfzZ9x"
      },
      "source": [
        "Vamos gerar 15 recomendados para o artigo de ID igual a 2"
      ]
    },
    {
      "cell_type": "code",
      "metadata": {
        "colab": {
          "base_uri": "https://localhost:8080/"
        },
        "id": "3fZcFcnPLaLx",
        "outputId": "7e72bc9c-457b-46e4-be6c-4a839f1bd457"
      },
      "source": [
        "#Output Modelo Knn\n",
        "article_titles = dict(zip(df['article_id'], df['title']))\n",
        "\n",
        "article_id = 2\n",
        "\n",
        "similar_ids = find_similar_articles(article_id, kNN, k=15)[0]\n",
        "article_title = article_titles[article_id]\n",
        "\n",
        "print(f\"Porque você ouviu \\033[1m {article_title} \\033[0m, recomendo:\")\n",
        "for i in similar_ids:\n",
        "    print(article_titles[i], i)"
      ],
      "execution_count": null,
      "outputs": [
        {
          "output_type": "stream",
          "text": [
            "Porque você ouviu \u001b[1m this week in data science (april 18, 2017) \u001b[0m, recomendo:\n",
            "data science platforms are on the rise and ibm is leading the way 524.0\n",
            "airbnb data for analytics: mallorca reviews 1101.0\n",
            "experience iot with coursera 29.0\n",
            "an interview with pythonista katharine jarmul 383.0\n",
            "deep learning with tensorflow course by big data university 43.0\n",
            "reducing overplotting in scatterplots 1038.0\n",
            "this week in data science (april 11, 2017) 448.0\n",
            "use deep learning for image classification 1429.0\n",
            "machine learning for the enterprise 800.0\n",
            "this week in data science (may 30, 2017) 510.0\n",
            "timeseries data analysis of iot events by using jupyter notebook 12.0\n",
            "making data cleaning simple with the sparkling.data library 935.0\n",
            "this week in data science (may 2, 2017) 76.0\n",
            "flightpredict ii: the sequel  – ibm watson data lab 969.0\n",
            "apache spark lab, part 3: machine learning 1172.0\n"
          ],
          "name": "stdout"
        }
      ]
    },
    {
      "cell_type": "markdown",
      "metadata": {
        "id": "fVEEW__5xkLb"
      },
      "source": [
        "O modelo kNN retorna também a distância dos vetores quando o parâmetro \"return_distance\" é True. Fazendo dessa forma e verificando similares para um artigo encontramos a distância de cada vetor/artigo para o escolhido. \n",
        "\n",
        "Abaixo, vamos gerar os recomendados para quem leu o **artigo de ID igual a 2**, e também a distância de cada recomendado para ele. \n",
        "\n",
        "Antes, vamos verificar quantos artigos no total foram lidos de acordo com o dataset df. "
      ]
    },
    {
      "cell_type": "code",
      "metadata": {
        "colab": {
          "base_uri": "https://localhost:8080/"
        },
        "id": "2VnOeKClyOP5",
        "outputId": "7ece5df7-2b94-490c-f334-da83dd595ab2"
      },
      "source": [
        "df.article_id.nunique()"
      ],
      "execution_count": null,
      "outputs": [
        {
          "output_type": "execute_result",
          "data": {
            "text/plain": [
              "714"
            ]
          },
          "metadata": {
            "tags": []
          },
          "execution_count": 44
        }
      ]
    },
    {
      "cell_type": "markdown",
      "metadata": {
        "id": "riRfi9XeyTHO"
      },
      "source": [
        "Uma vez que temos 714 artigos lidos no total, para retornarmos todos os artigos vamos imputar n =  714 - 1 no parâmetro K da função \"find_similar_articles\". O mesmo n foi inserido no treinamento do modelo kNN. "
      ]
    },
    {
      "cell_type": "code",
      "metadata": {
        "id": "nlEtd485RiH3"
      },
      "source": [
        "similar_ids, distance = find_similar_articles(2, kNN, k=713)"
      ],
      "execution_count": null,
      "outputs": []
    },
    {
      "cell_type": "code",
      "metadata": {
        "colab": {
          "base_uri": "https://localhost:8080/"
        },
        "id": "1cB_8CFJMUsK",
        "outputId": "208447e2-84f4-43b7-9319-c9af045ae9a1"
      },
      "source": [
        "#Verificando os 15 primeiros recomendados na ordem\n",
        "similar_ids[0:15]"
      ],
      "execution_count": null,
      "outputs": [
        {
          "output_type": "execute_result",
          "data": {
            "text/plain": [
              "[524.0,\n",
              " 1101.0,\n",
              " 29.0,\n",
              " 383.0,\n",
              " 43.0,\n",
              " 1038.0,\n",
              " 448.0,\n",
              " 1429.0,\n",
              " 800.0,\n",
              " 510.0,\n",
              " 12.0,\n",
              " 935.0,\n",
              " 76.0,\n",
              " 969.0,\n",
              " 1172.0]"
            ]
          },
          "metadata": {
            "tags": []
          },
          "execution_count": 52
        }
      ]
    },
    {
      "cell_type": "code",
      "metadata": {
        "colab": {
          "base_uri": "https://localhost:8080/"
        },
        "id": "Hkx_6DsL0NCG",
        "outputId": "68686cdd-7b8d-492f-d8cf-35b7f74754f1"
      },
      "source": [
        "#Verificando a distância dos 15 primeiros recomendados para o artigo 2 escolhido\n",
        "distance[0][0:16]"
      ],
      "execution_count": null,
      "outputs": [
        {
          "output_type": "execute_result",
          "data": {
            "text/plain": [
              "array([0.        , 0.52454269, 0.57142857, 0.59623795, 0.61667406,\n",
              "       0.64699096, 0.65007289, 0.67972948, 0.69349609, 0.69695424,\n",
              "       0.69965695, 0.71029679, 0.71428571, 0.72160252, 0.7223624 ,\n",
              "       0.73180591])"
            ]
          },
          "metadata": {
            "tags": []
          },
          "execution_count": 54
        }
      ]
    },
    {
      "cell_type": "code",
      "metadata": {
        "colab": {
          "base_uri": "https://localhost:8080/"
        },
        "id": "HXf1pJLx0xcv",
        "outputId": "b966b20c-5d19-4756-8c11-081ccc995e34"
      },
      "source": [
        "#Verificando a distância dos 15 últimos recomendados para o artigo 2 escolhido\n",
        "distance[0][-15:]"
      ],
      "execution_count": null,
      "outputs": [
        {
          "output_type": "execute_result",
          "data": {
            "text/plain": [
              "array([1., 1., 1., 1., 1., 1., 1., 1., 1., 1., 1., 1., 1., 1., 1.])"
            ]
          },
          "metadata": {
            "tags": []
          },
          "execution_count": 59
        }
      ]
    }
  ]
}